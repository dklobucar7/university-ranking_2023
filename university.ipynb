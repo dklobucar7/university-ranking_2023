{
 "cells": [
  {
   "cell_type": "code",
   "execution_count": 1,
   "metadata": {},
   "outputs": [],
   "source": [
    "import os\n",
    "import pandas as pd\n",
    "import numpy as np\n",
    "from sklearn.linear_model import LinearRegression\n",
    "from sklearn.impute import SimpleImputer"
   ]
  },
  {
   "cell_type": "markdown",
   "metadata": {},
   "source": [
    "Current path"
   ]
  },
  {
   "cell_type": "code",
   "execution_count": 2,
   "metadata": {},
   "outputs": [],
   "source": [
    "current_path = os.getcwd()"
   ]
  },
  {
   "cell_type": "markdown",
   "metadata": {},
   "source": [
    "Kreiranje dataFrame-a i čitanje prvih par redaka"
   ]
  },
  {
   "cell_type": "code",
   "execution_count": 3,
   "metadata": {},
   "outputs": [
    {
     "data": {
      "text/html": [
       "<div>\n",
       "<style scoped>\n",
       "    .dataframe tbody tr th:only-of-type {\n",
       "        vertical-align: middle;\n",
       "    }\n",
       "\n",
       "    .dataframe tbody tr th {\n",
       "        vertical-align: top;\n",
       "    }\n",
       "\n",
       "    .dataframe thead th {\n",
       "        text-align: right;\n",
       "    }\n",
       "</style>\n",
       "<table border=\"1\" class=\"dataframe\">\n",
       "  <thead>\n",
       "    <tr style=\"text-align: right;\">\n",
       "      <th></th>\n",
       "      <th>University Rank</th>\n",
       "      <th>Name of University</th>\n",
       "      <th>Location</th>\n",
       "      <th>No of student</th>\n",
       "      <th>No of student per staff</th>\n",
       "      <th>International Student</th>\n",
       "      <th>Female:Male Ratio</th>\n",
       "      <th>OverAll Score</th>\n",
       "      <th>Teaching Score</th>\n",
       "      <th>Research Score</th>\n",
       "      <th>Citations Score</th>\n",
       "      <th>Industry Income Score</th>\n",
       "      <th>International Outlook Score</th>\n",
       "    </tr>\n",
       "  </thead>\n",
       "  <tbody>\n",
       "    <tr>\n",
       "      <th>0</th>\n",
       "      <td>1</td>\n",
       "      <td>University of Oxford</td>\n",
       "      <td>United Kingdom</td>\n",
       "      <td>20,965</td>\n",
       "      <td>10.6</td>\n",
       "      <td>42%</td>\n",
       "      <td>48 : 52</td>\n",
       "      <td>96.4</td>\n",
       "      <td>92.3</td>\n",
       "      <td>99.7</td>\n",
       "      <td>99.0</td>\n",
       "      <td>74.9</td>\n",
       "      <td>96.2</td>\n",
       "    </tr>\n",
       "    <tr>\n",
       "      <th>1</th>\n",
       "      <td>2</td>\n",
       "      <td>Harvard University</td>\n",
       "      <td>United States</td>\n",
       "      <td>21,887</td>\n",
       "      <td>9.6</td>\n",
       "      <td>25%</td>\n",
       "      <td>50 : 50</td>\n",
       "      <td>95.2</td>\n",
       "      <td>94.8</td>\n",
       "      <td>99.0</td>\n",
       "      <td>99.3</td>\n",
       "      <td>49.5</td>\n",
       "      <td>80.5</td>\n",
       "    </tr>\n",
       "    <tr>\n",
       "      <th>2</th>\n",
       "      <td>3</td>\n",
       "      <td>University of Cambridge</td>\n",
       "      <td>United Kingdom</td>\n",
       "      <td>20,185</td>\n",
       "      <td>11.3</td>\n",
       "      <td>39%</td>\n",
       "      <td>47 : 53</td>\n",
       "      <td>94.8</td>\n",
       "      <td>90.9</td>\n",
       "      <td>99.5</td>\n",
       "      <td>97.0</td>\n",
       "      <td>54.2</td>\n",
       "      <td>95.8</td>\n",
       "    </tr>\n",
       "    <tr>\n",
       "      <th>3</th>\n",
       "      <td>3</td>\n",
       "      <td>Stanford University</td>\n",
       "      <td>United States</td>\n",
       "      <td>16,164</td>\n",
       "      <td>7.1</td>\n",
       "      <td>24%</td>\n",
       "      <td>46 : 54</td>\n",
       "      <td>94.8</td>\n",
       "      <td>94.2</td>\n",
       "      <td>96.7</td>\n",
       "      <td>99.8</td>\n",
       "      <td>65.0</td>\n",
       "      <td>79.8</td>\n",
       "    </tr>\n",
       "    <tr>\n",
       "      <th>4</th>\n",
       "      <td>5</td>\n",
       "      <td>Massachusetts Institute of Technology</td>\n",
       "      <td>United States</td>\n",
       "      <td>11,415</td>\n",
       "      <td>8.2</td>\n",
       "      <td>33%</td>\n",
       "      <td>40 : 60</td>\n",
       "      <td>94.2</td>\n",
       "      <td>90.7</td>\n",
       "      <td>93.6</td>\n",
       "      <td>99.8</td>\n",
       "      <td>90.9</td>\n",
       "      <td>89.3</td>\n",
       "    </tr>\n",
       "    <tr>\n",
       "      <th>...</th>\n",
       "      <td>...</td>\n",
       "      <td>...</td>\n",
       "      <td>...</td>\n",
       "      <td>...</td>\n",
       "      <td>...</td>\n",
       "      <td>...</td>\n",
       "      <td>...</td>\n",
       "      <td>...</td>\n",
       "      <td>...</td>\n",
       "      <td>...</td>\n",
       "      <td>...</td>\n",
       "      <td>...</td>\n",
       "      <td>...</td>\n",
       "    </tr>\n",
       "    <tr>\n",
       "      <th>196</th>\n",
       "      <td>198</td>\n",
       "      <td>Durham University</td>\n",
       "      <td>United Kingdom</td>\n",
       "      <td>18,425</td>\n",
       "      <td>14.1</td>\n",
       "      <td>35%</td>\n",
       "      <td>54 : 46</td>\n",
       "      <td>54.4</td>\n",
       "      <td>40.0</td>\n",
       "      <td>44.6</td>\n",
       "      <td>70.0</td>\n",
       "      <td>39.4</td>\n",
       "      <td>94.3</td>\n",
       "    </tr>\n",
       "    <tr>\n",
       "      <th>197</th>\n",
       "      <td>198</td>\n",
       "      <td>Queen’s University Belfast</td>\n",
       "      <td>NaN</td>\n",
       "      <td>19,060</td>\n",
       "      <td>15.8</td>\n",
       "      <td>39%</td>\n",
       "      <td>57 : 43</td>\n",
       "      <td>54.4</td>\n",
       "      <td>31.1</td>\n",
       "      <td>37.9</td>\n",
       "      <td>84.4</td>\n",
       "      <td>41.6</td>\n",
       "      <td>97.4</td>\n",
       "    </tr>\n",
       "    <tr>\n",
       "      <th>198</th>\n",
       "      <td>198</td>\n",
       "      <td>University of Reading</td>\n",
       "      <td>United Kingdom</td>\n",
       "      <td>15,720</td>\n",
       "      <td>16.4</td>\n",
       "      <td>32%</td>\n",
       "      <td>56 : 44</td>\n",
       "      <td>54.4</td>\n",
       "      <td>36.5</td>\n",
       "      <td>39.6</td>\n",
       "      <td>78.5</td>\n",
       "      <td>42.2</td>\n",
       "      <td>93.3</td>\n",
       "    </tr>\n",
       "    <tr>\n",
       "      <th>199</th>\n",
       "      <td>201–250</td>\n",
       "      <td>Aalto University</td>\n",
       "      <td>Finland</td>\n",
       "      <td>13,306</td>\n",
       "      <td>19.7</td>\n",
       "      <td>21%</td>\n",
       "      <td>38 : 62</td>\n",
       "      <td>51.2–54.3</td>\n",
       "      <td>38.3</td>\n",
       "      <td>40.4</td>\n",
       "      <td>67.5</td>\n",
       "      <td>53.2</td>\n",
       "      <td>81.9</td>\n",
       "    </tr>\n",
       "    <tr>\n",
       "      <th>200</th>\n",
       "      <td>201–250</td>\n",
       "      <td>University of Bergen</td>\n",
       "      <td>Norway</td>\n",
       "      <td>15,202</td>\n",
       "      <td>12.8</td>\n",
       "      <td>10%</td>\n",
       "      <td>60 : 40</td>\n",
       "      <td>51.2–54.3</td>\n",
       "      <td>30.2</td>\n",
       "      <td>32.7</td>\n",
       "      <td>85.7</td>\n",
       "      <td>41.7</td>\n",
       "      <td>76.4</td>\n",
       "    </tr>\n",
       "  </tbody>\n",
       "</table>\n",
       "<p>201 rows × 13 columns</p>\n",
       "</div>"
      ],
      "text/plain": [
       "    University Rank                     Name of University        Location  \\\n",
       "0                 1                   University of Oxford  United Kingdom   \n",
       "1                 2                     Harvard University   United States   \n",
       "2                 3                University of Cambridge  United Kingdom   \n",
       "3                 3                    Stanford University   United States   \n",
       "4                 5  Massachusetts Institute of Technology   United States   \n",
       "..              ...                                    ...             ...   \n",
       "196             198                      Durham University  United Kingdom   \n",
       "197             198             Queen’s University Belfast             NaN   \n",
       "198             198                  University of Reading  United Kingdom   \n",
       "199         201–250                       Aalto University         Finland   \n",
       "200         201–250                   University of Bergen          Norway   \n",
       "\n",
       "    No of student  No of student per staff International Student  \\\n",
       "0          20,965                     10.6                   42%   \n",
       "1          21,887                      9.6                   25%   \n",
       "2          20,185                     11.3                   39%   \n",
       "3          16,164                      7.1                   24%   \n",
       "4          11,415                      8.2                   33%   \n",
       "..            ...                      ...                   ...   \n",
       "196        18,425                     14.1                   35%   \n",
       "197        19,060                     15.8                   39%   \n",
       "198        15,720                     16.4                   32%   \n",
       "199        13,306                     19.7                   21%   \n",
       "200        15,202                     12.8                   10%   \n",
       "\n",
       "    Female:Male Ratio OverAll Score  Teaching Score  Research Score  \\\n",
       "0             48 : 52          96.4            92.3            99.7   \n",
       "1             50 : 50          95.2            94.8            99.0   \n",
       "2             47 : 53          94.8            90.9            99.5   \n",
       "3             46 : 54          94.8            94.2            96.7   \n",
       "4             40 : 60          94.2            90.7            93.6   \n",
       "..                ...           ...             ...             ...   \n",
       "196           54 : 46          54.4            40.0            44.6   \n",
       "197           57 : 43          54.4            31.1            37.9   \n",
       "198           56 : 44          54.4            36.5            39.6   \n",
       "199           38 : 62     51.2–54.3            38.3            40.4   \n",
       "200           60 : 40     51.2–54.3            30.2            32.7   \n",
       "\n",
       "     Citations Score  Industry Income Score  International Outlook Score  \n",
       "0               99.0                   74.9                         96.2  \n",
       "1               99.3                   49.5                         80.5  \n",
       "2               97.0                   54.2                         95.8  \n",
       "3               99.8                   65.0                         79.8  \n",
       "4               99.8                   90.9                         89.3  \n",
       "..               ...                    ...                          ...  \n",
       "196             70.0                   39.4                         94.3  \n",
       "197             84.4                   41.6                         97.4  \n",
       "198             78.5                   42.2                         93.3  \n",
       "199             67.5                   53.2                         81.9  \n",
       "200             85.7                   41.7                         76.4  \n",
       "\n",
       "[201 rows x 13 columns]"
      ]
     },
     "execution_count": 3,
     "metadata": {},
     "output_type": "execute_result"
    }
   ],
   "source": [
    "df = pd.read_csv(\"university_ranking.csv\")\n",
    "df.head(201)"
   ]
  },
  {
   "cell_type": "markdown",
   "metadata": {},
   "source": [
    "Convert csv to excel."
   ]
  },
  {
   "cell_type": "code",
   "execution_count": 4,
   "metadata": {},
   "outputs": [],
   "source": [
    "# path to excel folder\n",
    "excel_folder_path = os.path.join(current_path, 'excel')\n",
    "# save excel\n",
    "excel_file_path = os.path.join(excel_folder_path, 'data.xlsx')\n",
    "df.to_excel(excel_file_path, index=False)\n"
   ]
  },
  {
   "cell_type": "markdown",
   "metadata": {},
   "source": [
    "### CHECK DATA"
   ]
  },
  {
   "cell_type": "markdown",
   "metadata": {},
   "source": [
    "### 1. Summary of a DataFrame."
   ]
  },
  {
   "cell_type": "code",
   "execution_count": 5,
   "metadata": {},
   "outputs": [
    {
     "name": "stdout",
     "output_type": "stream",
     "text": [
      "<class 'pandas.core.frame.DataFrame'>\n",
      "RangeIndex: 2341 entries, 0 to 2340\n",
      "Data columns (total 13 columns):\n",
      " #   Column                       Non-Null Count  Dtype  \n",
      "---  ------                       --------------  -----  \n",
      " 0   University Rank              2341 non-null   object \n",
      " 1   Name of University           2233 non-null   object \n",
      " 2   Location                     2047 non-null   object \n",
      " 3   No of student                2209 non-null   object \n",
      " 4   No of student per staff      2208 non-null   float64\n",
      " 5   International Student        2209 non-null   object \n",
      " 6   Female:Male Ratio            2128 non-null   object \n",
      " 7   OverAll Score                1799 non-null   object \n",
      " 8   Teaching Score               1799 non-null   float64\n",
      " 9   Research Score               1799 non-null   float64\n",
      " 10  Citations Score              1799 non-null   float64\n",
      " 11  Industry Income Score        1799 non-null   float64\n",
      " 12  International Outlook Score  1799 non-null   float64\n",
      "dtypes: float64(6), object(7)\n",
      "memory usage: 237.9+ KB\n"
     ]
    }
   ],
   "source": [
    "df.info()"
   ]
  },
  {
   "cell_type": "markdown",
   "metadata": {},
   "source": [
    "### 2. Checking for missing values"
   ]
  },
  {
   "cell_type": "markdown",
   "metadata": {},
   "source": [
    "Check for percentage of missing values in each column with isnull()."
   ]
  },
  {
   "cell_type": "code",
   "execution_count": 6,
   "metadata": {},
   "outputs": [
    {
     "data": {
      "text/plain": [
       "OverAll Score                  23.152499\n",
       "Teaching Score                 23.152499\n",
       "Research Score                 23.152499\n",
       "Citations Score                23.152499\n",
       "Industry Income Score          23.152499\n",
       "International Outlook Score    23.152499\n",
       "Location                       12.558736\n",
       "Female:Male Ratio               9.098676\n",
       "No of student per staff         5.681333\n",
       "No of student                   5.638616\n",
       "International Student           5.638616\n",
       "Name of University              4.613413\n",
       "University Rank                 0.000000\n",
       "dtype: float64"
      ]
     },
     "execution_count": 6,
     "metadata": {},
     "output_type": "execute_result"
    }
   ],
   "source": [
    "missing_val= df.isnull().mean()*100\n",
    "missing_val_sorted = missing_val.sort_values(ascending=False)\n",
    "missing_val_sorted"
   ]
  },
  {
   "cell_type": "markdown",
   "metadata": {},
   "source": [
    "Once we have identified the columns with missing values, we need to decide how to deal with them."
   ]
  },
  {
   "cell_type": "markdown",
   "metadata": {},
   "source": [
    "### 3. Handling Missing Data"
   ]
  },
  {
   "cell_type": "markdown",
   "metadata": {},
   "source": [
    "Drop variable \"Name of University\". Without the name of the university, we lose the ability to identify which university it is, so we will delete rows with missing values of name."
   ]
  },
  {
   "cell_type": "code",
   "execution_count": 7,
   "metadata": {},
   "outputs": [
    {
     "name": "stdout",
     "output_type": "stream",
     "text": [
      "Number of rows before: 2341\n",
      "Number of rows after deleting missing values of the variable 'Name of University': 2233\n",
      "<class 'pandas.core.frame.DataFrame'>\n",
      "Index: 2233 entries, 0 to 2340\n",
      "Data columns (total 13 columns):\n",
      " #   Column                       Non-Null Count  Dtype  \n",
      "---  ------                       --------------  -----  \n",
      " 0   University Rank              2233 non-null   object \n",
      " 1   Name of University           2233 non-null   object \n",
      " 2   Location                     2047 non-null   object \n",
      " 3   No of student                2209 non-null   object \n",
      " 4   No of student per staff      2208 non-null   float64\n",
      " 5   International Student        2209 non-null   object \n",
      " 6   Female:Male Ratio            2128 non-null   object \n",
      " 7   OverAll Score                1721 non-null   object \n",
      " 8   Teaching Score               1721 non-null   float64\n",
      " 9   Research Score               1721 non-null   float64\n",
      " 10  Citations Score              1721 non-null   float64\n",
      " 11  Industry Income Score        1721 non-null   float64\n",
      " 12  International Outlook Score  1721 non-null   float64\n",
      "dtypes: float64(6), object(7)\n",
      "memory usage: 244.2+ KB\n"
     ]
    }
   ],
   "source": [
    "# Print the number of rows before cleaning\n",
    "print(f\"Number of rows before: {len(df)}\")\n",
    "\n",
    "# Drop rows where the 'Name of University' column has missing values\n",
    "df_cleaned = df.dropna(subset=[\"Name of University\"])\n",
    "\n",
    "# Print the number of rows after cleaning\n",
    "print(f\"Number of rows after deleting missing values of the variable 'Name of University': {len(df_cleaned)}\")\n",
    "\n",
    "df_cleaned.info()\n"
   ]
  },
  {
   "cell_type": "code",
   "execution_count": 8,
   "metadata": {},
   "outputs": [],
   "source": [
    "# save cleaned dataset\n",
    "df_cleaned.to_csv('university_ranking_cleaned_1.csv')\n",
    "\n",
    "# save new dataset to excel\n",
    "df_cleaned.to_excel(os.path.join(excel_folder_path, 'data_cleaned_1.xlsx'), index=False)"
   ]
  },
  {
   "cell_type": "markdown",
   "metadata": {},
   "source": [
    "### Review of Variables with Missing Values"
   ]
  },
  {
   "cell_type": "markdown",
   "metadata": {},
   "source": [
    "#### Variables with Missing Values<br>\n",
    "OverAll Score: 23.15% missing values<br>\n",
    "Teaching Score: 23.15% missing values<br>\n",
    "Research Score: 23.15% missing values<br>\n",
    "Citations Score: 23.15% missing values<br>\n",
    "Industry Income Score: 23.15% missing values<br>\n",
    "International Outlook Score: 23.15% missing values<br>\n",
    "Location: 12.56% missing values<br>\n",
    "Female:Male Ratio: 9.10% missing values<br>\n",
    "No of student per staff: 5.68% missing values<br>\n",
    "No of student: 5.64% missing values<br>\n",
    "International Student: 5.64% missing values<br>"
   ]
  },
  {
   "cell_type": "markdown",
   "metadata": {},
   "source": [
    "### Check data type"
   ]
  },
  {
   "cell_type": "code",
   "execution_count": 9,
   "metadata": {},
   "outputs": [
    {
     "name": "stdout",
     "output_type": "stream",
     "text": [
      "OverAll Score is numeric: False\n",
      "Teaching Score is numeric: False\n",
      "Research Score is numeric: False\n",
      "Citations Score is numeric: False\n",
      "Industry Income Score is numeric: False\n",
      "International Outlook Score is numeric: False\n"
     ]
    }
   ],
   "source": [
    "# Check if types are numeric for columns\n",
    "columns_to_check = [\n",
    "    \"OverAll Score\", \n",
    "    \"Teaching Score\",\n",
    "    \"Research Score\",\n",
    "    \"Citations Score\",\n",
    "    \"Industry Income Score\",\n",
    "    \"International Outlook Score\"\n",
    "]\n",
    "\n",
    "for column in columns_to_check:\n",
    "    is_numeric = pd.api.types.is_numeric_dtype(column)\n",
    "    print(f\"{column} is numeric: {is_numeric}\")\n"
   ]
  },
  {
   "cell_type": "markdown",
   "metadata": {},
   "source": [
    "Now we'll check what data types are in each column"
   ]
  },
  {
   "cell_type": "code",
   "execution_count": 10,
   "metadata": {},
   "outputs": [
    {
     "name": "stdout",
     "output_type": "stream",
     "text": [
      "Results for column 'OverAll Score':\n",
      "  Strings: 1721\n",
      "  NaN values: 512\n",
      "\n",
      "Results for column 'Teaching Score':\n",
      "  Floats: 1721\n",
      "  NaN values: 512\n",
      "\n",
      "Results for column 'Research Score':\n",
      "  Floats: 1721\n",
      "  NaN values: 512\n",
      "\n",
      "Results for column 'Citations Score':\n",
      "  Floats: 1721\n",
      "  NaN values: 512\n",
      "\n",
      "Results for column 'Industry Income Score':\n",
      "  Floats: 1721\n",
      "  NaN values: 512\n",
      "\n",
      "Results for column 'International Outlook Score':\n",
      "  Floats: 1721\n",
      "  NaN values: 512\n",
      "\n"
     ]
    }
   ],
   "source": [
    "# Columns to check\n",
    "columns_to_check = [\n",
    "    \"OverAll Score\", \n",
    "    \"Teaching Score\",\n",
    "    \"Research Score\",\n",
    "    \"Citations Score\",\n",
    "    \"Industry Income Score\",\n",
    "    \"International Outlook Score\"\n",
    "]\n",
    "\n",
    "# Function to categorize value type\n",
    "def value_type(value):\n",
    "    if pd.isna(value):\n",
    "        return 'NaN values'\n",
    "    elif value == '':\n",
    "        return 'Empty Strings'\n",
    "    elif isinstance(value, str):\n",
    "        return 'Strings'\n",
    "    elif isinstance(value, int):\n",
    "        return 'Integers'\n",
    "    elif isinstance(value, float):\n",
    "        return 'Floats'\n",
    "    elif value is None:\n",
    "        return 'None'\n",
    "    else:\n",
    "        return 'Other types'\n",
    "\n",
    "# Iterate through each column and count types\n",
    "for column_name in columns_to_check:\n",
    "    type_counts = df_cleaned[column_name].apply(value_type).value_counts()\n",
    "    print(f\"Results for column '{column_name}':\")\n",
    "    for type_name, count in type_counts.items():\n",
    "        print(f\"  {type_name}: {count}\")\n",
    "    print() "
   ]
  },
  {
   "cell_type": "markdown",
   "metadata": {},
   "source": [
    "Some values in the 'OverAll Score' column are ranges (e.g., '48.9–51.1'). These need to be handled appropriately since ranges cannot be directly converted to numeric values. The approach will involve extracting an average or a midpoint from these ranges for consistency.\n"
   ]
  },
  {
   "cell_type": "code",
   "execution_count": 11,
   "metadata": {},
   "outputs": [
    {
     "name": "stdout",
     "output_type": "stream",
     "text": [
      "   OverAll Score  Teaching Score  Research Score  Citations Score  \\\n",
      "0           96.4            92.3            99.7             99.0   \n",
      "1           95.2            94.8            99.0             99.3   \n",
      "2           94.8            90.9            99.5             97.0   \n",
      "3           94.8            94.2            96.7             99.8   \n",
      "4           94.2            90.7            93.6             99.8   \n",
      "\n",
      "   Industry Income Score  International Outlook Score  \n",
      "0                   74.9                         96.2  \n",
      "1                   49.5                         80.5  \n",
      "2                   54.2                         95.8  \n",
      "3                   65.0                         79.8  \n",
      "4                   90.9                         89.3  \n"
     ]
    }
   ],
   "source": [
    "# Define function to handle ranges and convert to float\n",
    "def convert_to_float(value):\n",
    "    try:\n",
    "        # dash\n",
    "        if '–' in value:  \n",
    "            low, high = map(float, value.split('–'))\n",
    "            return (low + high) / 2\n",
    "        # hyphen\n",
    "        elif '-' in value:  \n",
    "            low, high = map(float, value.split('-'))\n",
    "            return (low + high) / 2\n",
    "        else:\n",
    "            return float(value)\n",
    "    except ValueError:\n",
    "        return np.nan\n",
    "\n",
    "df_converted_to_numeric = df_cleaned.copy()\n",
    "\n",
    "# Apply the function to the columns\n",
    "for column in columns_to_check:\n",
    "    df_converted_to_numeric[column] = df_converted_to_numeric[column].apply(lambda x: convert_to_float(str(x).strip()))\n",
    "\n",
    "# Check the data after conversion\n",
    "print(df_converted_to_numeric[columns_to_check].head())\n",
    "\n",
    "# Save the new DataFrame\n",
    "df_converted_to_numeric.to_csv('university_converted_to_numeric.csv', index=False)"
   ]
  },
  {
   "cell_type": "code",
   "execution_count": 12,
   "metadata": {},
   "outputs": [],
   "source": [
    "# save new dataset to excel\n",
    "df_converted_to_numeric.to_excel(os.path.join(excel_folder_path, 'data_cleaned_2.xlsx'), index=False)"
   ]
  },
  {
   "cell_type": "markdown",
   "metadata": {},
   "source": [
    "### Regression Imputation"
   ]
  },
  {
   "cell_type": "markdown",
   "metadata": {},
   "source": [
    "We use Regression Imputation for numerical variables to fill these crucial numerical variables by leveraging other scores and available data.\n",
    "For this variables we will use Regression Imputation:<br>\n",
    "OverAll Score,<br> \n",
    "Teaching Score,<br>\n",
    "Research Score,<br>\n",
    "Citations Score,<br>\n",
    "Industry Income Score,<br> \n",
    "International Outlook Score<br>"
   ]
  },
  {
   "cell_type": "markdown",
   "metadata": {},
   "source": [
    "First we will convert data type to numerical, because now we have strings."
   ]
  },
  {
   "cell_type": "code",
   "execution_count": 13,
   "metadata": {},
   "outputs": [
    {
     "name": "stdout",
     "output_type": "stream",
     "text": [
      "<class 'pandas.core.frame.DataFrame'>\n",
      "Index: 2233 entries, 0 to 2340\n",
      "Data columns (total 13 columns):\n",
      " #   Column                       Non-Null Count  Dtype  \n",
      "---  ------                       --------------  -----  \n",
      " 0   University Rank              2233 non-null   object \n",
      " 1   Name of University           2233 non-null   object \n",
      " 2   Location                     2047 non-null   object \n",
      " 3   No of student                2209 non-null   object \n",
      " 4   No of student per staff      2208 non-null   float64\n",
      " 5   International Student        2209 non-null   object \n",
      " 6   Female:Male Ratio            2128 non-null   object \n",
      " 7   OverAll Score                2233 non-null   float64\n",
      " 8   Teaching Score               2233 non-null   float64\n",
      " 9   Research Score               2233 non-null   float64\n",
      " 10  Citations Score              2233 non-null   float64\n",
      " 11  Industry Income Score        2233 non-null   float64\n",
      " 12  International Outlook Score  2233 non-null   float64\n",
      "dtypes: float64(7), object(6)\n",
      "memory usage: 244.2+ KB\n",
      "Regresijska imputacija je završena. Kopija podataka je spremljena kao 'df_after_regression'.\n"
     ]
    }
   ],
   "source": [
    "# Funkcija za regresijsku imputaciju\n",
    "def regression_impute(df, target_column):\n",
    "    known_data = df[df[target_column].notnull()]\n",
    "    unknown_data = df[df[target_column].isnull()]\n",
    "\n",
    "    X_train = known_data.drop(columns=['Name of University', 'Location', target_column])\n",
    "    y_train = known_data[target_column]\n",
    "\n",
    "    X_test = unknown_data.drop(columns=['Name of University', 'Location', target_column])\n",
    "\n",
    "    # Odabir samo numeričkih stupaca za regresiju\n",
    "    X_train = X_train.select_dtypes(include=[np.number])\n",
    "    X_test = X_test.select_dtypes(include=[np.number])\n",
    "\n",
    "    # Imputacija nedostajućih vrijednosti\n",
    "    imputer = SimpleImputer(strategy='mean')\n",
    "    X_train = imputer.fit_transform(X_train)\n",
    "    X_test = imputer.transform(X_test)\n",
    "\n",
    "    # Treniranje modela\n",
    "    model = LinearRegression()\n",
    "    model.fit(X_train, y_train)\n",
    "\n",
    "    # Predikcija nedostajućih vrijednosti\n",
    "    predicted_values = model.predict(X_test)\n",
    "    df.loc[df[target_column].isnull(), target_column] = predicted_values\n",
    "\n",
    "# Imputacija za svaki od ključnih numeričkih stupaca\n",
    "for column in columns_to_check:\n",
    "    regression_impute(df_converted_to_numeric, column)\n",
    "\n",
    "# Provjera podataka nakon imputacije\n",
    "df_converted_to_numeric.info()\n",
    "\n",
    "df_after_regression = df_converted_to_numeric.copy()\n",
    "# Ispis za potvrdu\n",
    "print(\"Regresijska imputacija je završena. Kopija podataka je spremljena kao 'df_after_regression'.\")"
   ]
  },
  {
   "cell_type": "code",
   "execution_count": 14,
   "metadata": {},
   "outputs": [],
   "source": [
    "df_after_regression.to_csv('university_after_regression.csv')"
   ]
  },
  {
   "cell_type": "code",
   "execution_count": 15,
   "metadata": {},
   "outputs": [],
   "source": [
    "# save new dataset to excel\n",
    "df_after_regression.to_excel(os.path.join(excel_folder_path, 'data_cleaned_3.xlsx'), index=False)"
   ]
  },
  {
   "cell_type": "markdown",
   "metadata": {},
   "source": [
    "## Visualization"
   ]
  },
  {
   "cell_type": "markdown",
   "metadata": {},
   "source": [
    "University Locations."
   ]
  },
  {
   "cell_type": "code",
   "execution_count": 16,
   "metadata": {},
   "outputs": [
    {
     "data": {
      "image/png": "[encoded data removed]",
      "text/plain": [
       "<Figure size 2400x1200 with 1 Axes>"
      ]
     },
     "metadata": {},
     "output_type": "display_data"
    }
   ],
   "source": [
    "import matplotlib.pyplot as plt\n",
    "import seaborn as sns\n",
    "# Bar plot for university locations\n",
    "# Bar plot for university locations\n",
    "plt.figure(figsize=(24, 12))\n",
    "sns.countplot(data=df_after_regression, x='Location', order=df_after_regression['Location'].value_counts().index)\n",
    "plt.xticks(rotation=90)\n",
    "plt.title('Number of Universities by Location')\n",
    "plt.show()"
   ]
  },
  {
   "cell_type": "markdown",
   "metadata": {},
   "source": [
    "Histogram for \"OverAll Score\""
   ]
  },
  {
   "cell_type": "code",
   "execution_count": 17,
   "metadata": {},
   "outputs": [
    {
     "name": "stderr",
     "output_type": "stream",
     "text": [
      "C:\\Users\\dklobucar\\AppData\\Local\\Temp\\ipykernel_64284\\374598678.py:9: FutureWarning: \n",
      "\n",
      "Passing `palette` without assigning `hue` is deprecated and will be removed in v0.14.0. Assign the `y` variable to `hue` and set `legend=False` for the same effect.\n",
      "\n",
      "  sns.barplot(data=top_universities, x='OverAll Score', y='Name of University', palette='viridis')\n"
     ]
    },
    {
     "data": {
      "image/png": "[encoded data removed]",
      "text/plain": [
       "<Figure size 1000x600 with 1 Axes>"
      ]
     },
     "metadata": {},
     "output_type": "display_data"
    }
   ],
   "source": [
    "# Sort by 'OverAll Score' to find the top universities\n",
    "df_sorted = df_after_regression.sort_values(by='OverAll Score', ascending=False)\n",
    "\n",
    "# Select the top 10 universities for visualization\n",
    "top_universities = df_sorted.head(10)\n",
    "\n",
    "# Create a horizontal bar plot for the top universities by 'OverAll Score'\n",
    "plt.figure(figsize=(10, 6))\n",
    "sns.barplot(data=top_universities, x='OverAll Score', y='Name of University', palette='viridis')\n",
    "plt.title('Top 10 Universities by Overall Score')\n",
    "plt.xlabel('Overall Score')\n",
    "plt.ylabel('University')\n",
    "plt.tight_layout()\n",
    "plt.show()"
   ]
  },
  {
   "cell_type": "markdown",
   "metadata": {},
   "source": [
    "### 1.How many universities are there in the dataset?"
   ]
  },
  {
   "cell_type": "code",
   "execution_count": 41,
   "metadata": {},
   "outputs": [
    {
     "data": {
      "text/html": [
       "<div>\n",
       "<style scoped>\n",
       "    .dataframe tbody tr th:only-of-type {\n",
       "        vertical-align: middle;\n",
       "    }\n",
       "\n",
       "    .dataframe tbody tr th {\n",
       "        vertical-align: top;\n",
       "    }\n",
       "\n",
       "    .dataframe thead th {\n",
       "        text-align: right;\n",
       "    }\n",
       "</style>\n",
       "<table border=\"1\" class=\"dataframe\">\n",
       "  <thead>\n",
       "    <tr style=\"text-align: right;\">\n",
       "      <th></th>\n",
       "      <th>Unnamed: 0</th>\n",
       "      <th>University Rank</th>\n",
       "      <th>Name of University</th>\n",
       "      <th>Location</th>\n",
       "      <th>No of student</th>\n",
       "      <th>No of student per staff</th>\n",
       "      <th>International Student</th>\n",
       "      <th>Female:Male Ratio</th>\n",
       "      <th>OverAll Score</th>\n",
       "      <th>Teaching Score</th>\n",
       "      <th>Research Score</th>\n",
       "      <th>Citations Score</th>\n",
       "      <th>Industry Income Score</th>\n",
       "      <th>International Outlook Score</th>\n",
       "    </tr>\n",
       "  </thead>\n",
       "  <tbody>\n",
       "    <tr>\n",
       "      <th>0</th>\n",
       "      <td>0</td>\n",
       "      <td>1</td>\n",
       "      <td>University of Oxford</td>\n",
       "      <td>United Kingdom</td>\n",
       "      <td>20,965</td>\n",
       "      <td>10.6</td>\n",
       "      <td>42%</td>\n",
       "      <td>48 : 52</td>\n",
       "      <td>96.4</td>\n",
       "      <td>92.3</td>\n",
       "      <td>99.7</td>\n",
       "      <td>99.0</td>\n",
       "      <td>74.9</td>\n",
       "      <td>96.2</td>\n",
       "    </tr>\n",
       "    <tr>\n",
       "      <th>1</th>\n",
       "      <td>1</td>\n",
       "      <td>2</td>\n",
       "      <td>Harvard University</td>\n",
       "      <td>United States</td>\n",
       "      <td>21,887</td>\n",
       "      <td>9.6</td>\n",
       "      <td>25%</td>\n",
       "      <td>50 : 50</td>\n",
       "      <td>95.2</td>\n",
       "      <td>94.8</td>\n",
       "      <td>99.0</td>\n",
       "      <td>99.3</td>\n",
       "      <td>49.5</td>\n",
       "      <td>80.5</td>\n",
       "    </tr>\n",
       "    <tr>\n",
       "      <th>2</th>\n",
       "      <td>2</td>\n",
       "      <td>3</td>\n",
       "      <td>University of Cambridge</td>\n",
       "      <td>United Kingdom</td>\n",
       "      <td>20,185</td>\n",
       "      <td>11.3</td>\n",
       "      <td>39%</td>\n",
       "      <td>47 : 53</td>\n",
       "      <td>94.8</td>\n",
       "      <td>90.9</td>\n",
       "      <td>99.5</td>\n",
       "      <td>97.0</td>\n",
       "      <td>54.2</td>\n",
       "      <td>95.8</td>\n",
       "    </tr>\n",
       "    <tr>\n",
       "      <th>3</th>\n",
       "      <td>3</td>\n",
       "      <td>3</td>\n",
       "      <td>Stanford University</td>\n",
       "      <td>United States</td>\n",
       "      <td>16,164</td>\n",
       "      <td>7.1</td>\n",
       "      <td>24%</td>\n",
       "      <td>46 : 54</td>\n",
       "      <td>94.8</td>\n",
       "      <td>94.2</td>\n",
       "      <td>96.7</td>\n",
       "      <td>99.8</td>\n",
       "      <td>65.0</td>\n",
       "      <td>79.8</td>\n",
       "    </tr>\n",
       "    <tr>\n",
       "      <th>4</th>\n",
       "      <td>4</td>\n",
       "      <td>5</td>\n",
       "      <td>Massachusetts Institute of Technology</td>\n",
       "      <td>United States</td>\n",
       "      <td>11,415</td>\n",
       "      <td>8.2</td>\n",
       "      <td>33%</td>\n",
       "      <td>40 : 60</td>\n",
       "      <td>94.2</td>\n",
       "      <td>90.7</td>\n",
       "      <td>93.6</td>\n",
       "      <td>99.8</td>\n",
       "      <td>90.9</td>\n",
       "      <td>89.3</td>\n",
       "    </tr>\n",
       "  </tbody>\n",
       "</table>\n",
       "</div>"
      ],
      "text/plain": [
       "   Unnamed: 0 University Rank                     Name of University  \\\n",
       "0           0               1                   University of Oxford   \n",
       "1           1               2                     Harvard University   \n",
       "2           2               3                University of Cambridge   \n",
       "3           3               3                    Stanford University   \n",
       "4           4               5  Massachusetts Institute of Technology   \n",
       "\n",
       "         Location No of student  No of student per staff  \\\n",
       "0  United Kingdom        20,965                     10.6   \n",
       "1   United States        21,887                      9.6   \n",
       "2  United Kingdom        20,185                     11.3   \n",
       "3   United States        16,164                      7.1   \n",
       "4   United States        11,415                      8.2   \n",
       "\n",
       "  International Student Female:Male Ratio  OverAll Score  Teaching Score  \\\n",
       "0                   42%           48 : 52           96.4            92.3   \n",
       "1                   25%           50 : 50           95.2            94.8   \n",
       "2                   39%           47 : 53           94.8            90.9   \n",
       "3                   24%           46 : 54           94.8            94.2   \n",
       "4                   33%           40 : 60           94.2            90.7   \n",
       "\n",
       "   Research Score  Citations Score  Industry Income Score  \\\n",
       "0            99.7             99.0                   74.9   \n",
       "1            99.0             99.3                   49.5   \n",
       "2            99.5             97.0                   54.2   \n",
       "3            96.7             99.8                   65.0   \n",
       "4            93.6             99.8                   90.9   \n",
       "\n",
       "   International Outlook Score  \n",
       "0                         96.2  \n",
       "1                         80.5  \n",
       "2                         95.8  \n",
       "3                         79.8  \n",
       "4                         89.3  "
      ]
     },
     "execution_count": 41,
     "metadata": {},
     "output_type": "execute_result"
    }
   ],
   "source": [
    "df_working= pd.read_csv('university_after_regression.csv')\n",
    "df_working.head()"
   ]
  },
  {
   "cell_type": "code",
   "execution_count": 42,
   "metadata": {},
   "outputs": [
    {
     "name": "stdout",
     "output_type": "stream",
     "text": [
      "Index(['Unnamed: 0', 'University Rank', 'Name of University', 'Location',\n",
      "       'No of student', 'No of student per staff', 'International Student',\n",
      "       'Female:Male Ratio', 'OverAll Score', 'Teaching Score',\n",
      "       'Research Score', 'Citations Score', 'Industry Income Score',\n",
      "       'International Outlook Score'],\n",
      "      dtype='object')\n"
     ]
    }
   ],
   "source": [
    "df_working= pd.read_csv('university_after_regression.csv')\n",
    "print(df_working.columns)\n"
   ]
  },
  {
   "cell_type": "code",
   "execution_count": 43,
   "metadata": {},
   "outputs": [
    {
     "name": "stdout",
     "output_type": "stream",
     "text": [
      "There are 2233 universities in the dataset.\n"
     ]
    }
   ],
   "source": [
    "print(f\"There are {len(df_working)} universities in the dataset.\")"
   ]
  },
  {
   "cell_type": "markdown",
   "metadata": {},
   "source": [
    "### 2. How many different countries are there?\n"
   ]
  },
  {
   "cell_type": "code",
   "execution_count": 44,
   "metadata": {},
   "outputs": [
    {
     "name": "stdout",
     "output_type": "stream",
     "text": [
      "There are 116 different countries in the dataset.\n"
     ]
    }
   ],
   "source": [
    "count_locations = df_working[\"Location\"].nunique()\n",
    "print(f\"There are {count_locations} different countries in the dataset.\")"
   ]
  },
  {
   "cell_type": "markdown",
   "metadata": {},
   "source": [
    "### 3. What is the distribition of contries in top 100 universities?"
   ]
  },
  {
   "cell_type": "code",
   "execution_count": 45,
   "metadata": {},
   "outputs": [
    {
     "name": "stdout",
     "output_type": "stream",
     "text": [
      "Location\n",
      "United States     34\n",
      "United Kingdom     7\n",
      "Germany            6\n",
      "Switzerland        4\n",
      "Australia          4\n",
      "France             4\n",
      "Netherlands        4\n",
      "China              3\n",
      "Canada             2\n",
      "Japan              2\n",
      "South Korea        2\n",
      "Singapore          1\n",
      "Sweden             1\n",
      "Name: count, dtype: int64\n"
     ]
    }
   ],
   "source": [
    "# sort by \"OverALL Score\"\n",
    "top_100_uni = df_working.sort_values(by=\"OverAll Score\", ascending=False).head(100)\n",
    "#print(top_100_uni)\n",
    "\n",
    "# Count the occurrences of each country in the 'Location' column\n",
    "county_distribution = top_100_uni['Location'].value_counts()\n",
    "print(county_distribution)"
   ]
  },
  {
   "cell_type": "markdown",
   "metadata": {},
   "source": [
    "### 4. What is the average number of students in top 10 universities?"
   ]
  },
  {
   "cell_type": "code",
   "execution_count": 99,
   "metadata": {},
   "outputs": [
    {
     "name": "stdout",
     "output_type": "stream",
     "text": [
      "The 'No of student' column is numeric: False\n"
     ]
    }
   ],
   "source": [
    "df_working= pd.read_csv('university_after_regression.csv')\n",
    "# sort and get top 10 university by overALL Score\n",
    "top_10_uni = df_working.sort_values(by=\"OverAll Score\", ascending=False).head(10)\n",
    "\n",
    "# Check if 'No of student' column is numeric\n",
    "is_numeric = pd.api.types.is_numeric_dtype(top_10_uni[\"No of student\"])\n",
    "print(f\"The 'No of student' column is numeric: {is_numeric}\")"
   ]
  },
  {
   "cell_type": "code",
   "execution_count": 100,
   "metadata": {},
   "outputs": [
    {
     "name": "stdout",
     "output_type": "stream",
     "text": [
      "No of student column:\n",
      "Strings:10\n"
     ]
    }
   ],
   "source": [
    "type_counts = top_10_uni['No of student'].apply(value_type).value_counts()\n",
    "\n",
    "for type_name, count in type_counts.items():\n",
    "    print(f\"No of student column:\")\n",
    "    print(f\"{type_name}:{count}\")"
   ]
  },
  {
   "cell_type": "code",
   "execution_count": 101,
   "metadata": {},
   "outputs": [
    {
     "name": "stdout",
     "output_type": "stream",
     "text": [
      "Series([], Name: No of student, dtype: object)\n"
     ]
    }
   ],
   "source": [
    "# Print non-numeric values from the 'No of student' column\n",
    "non_numeric_values = top_10_uni['No of student'][top_10_uni['No of student'].isna()]\n",
    "print(non_numeric_values)"
   ]
  },
  {
   "cell_type": "code",
   "execution_count": 102,
   "metadata": {},
   "outputs": [],
   "source": [
    "# removing commas and convert to numeric\n",
    "top_10_uni['No of student'] = top_10_uni['No of student'].str.replace(',', '').astype(float)"
   ]
  },
  {
   "cell_type": "code",
   "execution_count": 103,
   "metadata": {},
   "outputs": [],
   "source": [
    "mean_students = top_10_uni['No of student'].mean()"
   ]
  },
  {
   "cell_type": "code",
   "execution_count": 104,
   "metadata": {},
   "outputs": [
    {
     "name": "stdout",
     "output_type": "stream",
     "text": [
      "The mean number of students in top 10 uni is: 17408.0\n"
     ]
    }
   ],
   "source": [
    "print(f\"The mean number of students in top 10 uni is: {mean_students}\")"
   ]
  },
  {
   "cell_type": "markdown",
   "metadata": {},
   "source": [
    "### 5. Which are the top 10 universities with more than 50% international student?"
   ]
  },
  {
   "cell_type": "code",
   "execution_count": 168,
   "metadata": {},
   "outputs": [
    {
     "name": "stdout",
     "output_type": "stream",
     "text": [
      "International Student column:\n",
      "Strings:2209\n",
      "International Student column:\n",
      "NaN values:24\n"
     ]
    }
   ],
   "source": [
    "# Load data\n",
    "df_universities = df_working.sort_values(by=\"OverAll Score\", ascending=False)\n",
    "\n",
    "# check which data type\n",
    "type_counts = df_universities[\"International Student\"].apply(value_type).value_counts()\n",
    "\n",
    "for type_name, count in type_counts.items():\n",
    "    print(f\"International Student column:\")\n",
    "    print(f\"{type_name}:{count}\")"
   ]
  },
  {
   "cell_type": "code",
   "execution_count": 169,
   "metadata": {},
   "outputs": [],
   "source": [
    "# Replace empty strings with NaN before conversion\n",
    "df_universities[\"International Student\"] = df_universities[\"International Student\"].replace('', np.nan)"
   ]
  },
  {
   "cell_type": "code",
   "execution_count": 170,
   "metadata": {},
   "outputs": [],
   "source": [
    "# convert to numeric\n",
    "df_universities[\"International Student\"] = pd.to_numeric(df_universities[\"International Student\"].str.replace('%', ''), errors='coerce')"
   ]
  },
  {
   "cell_type": "code",
   "execution_count": 171,
   "metadata": {},
   "outputs": [],
   "source": [
    "# Filter dataframe\n",
    "df_international = df_universities[df_universities['International Student'] > 50]"
   ]
  },
  {
   "cell_type": "code",
   "execution_count": 173,
   "metadata": {},
   "outputs": [
    {
     "name": "stdout",
     "output_type": "stream",
     "text": [
      "                                   Name of University  International Student\n",
      "9                             Imperial College London                   61.0\n",
      "21                                                UCL                   60.0\n",
      "34                              King’s College London                   52.0\n",
      "36   London School of Economics and Political Science                   73.0\n",
      "40           École Polytechnique Fédérale de Lausanne                   62.0\n",
      "61                     Australian National University                   51.0\n",
      "98                       City University of Hong Kong                   62.0\n",
      "144                             Maastricht University                   56.0\n",
      "218        Macau University of Science and Technology                   91.0\n",
      "216                          University of Luxembourg                   51.0\n"
     ]
    }
   ],
   "source": [
    "# sort by OverAllScore\n",
    "top_10_sorted = df_international.sort_values(by=\"OverAll Score\", ascending=False)[['Name of University','International Student']].head(10)\n",
    "print(top_10_sorted)"
   ]
  },
  {
   "cell_type": "markdown",
   "metadata": {},
   "source": [
    "### 6. Which are the top 10 universities with a predominantly female presence?\n"
   ]
  },
  {
   "cell_type": "code",
   "execution_count": 294,
   "metadata": {},
   "outputs": [],
   "source": [
    "# Load data\n",
    "df_work= pd.read_csv('university_after_regression.csv')"
   ]
  },
  {
   "cell_type": "code",
   "execution_count": 295,
   "metadata": {},
   "outputs": [
    {
     "name": "stdout",
     "output_type": "stream",
     "text": [
      "Strings:2128\n",
      "NaN values:105\n"
     ]
    }
   ],
   "source": [
    "# check which data type\n",
    "type_counts = df_work[\"Female:Male Ratio\"].apply(value_type).value_counts()\n",
    "\n",
    "for type_name, count in type_counts.items():\n",
    "    print(f\"{type_name}:{count}\")\n"
   ]
  },
  {
   "cell_type": "code",
   "execution_count": 296,
   "metadata": {},
   "outputs": [],
   "source": [
    "# Replace empty strings with NaN before conversion\n",
    "df_work[\"Female:Male Ratio\"] = df_work[\"Female:Male Ratio\"].replace('', np.nan) "
   ]
  },
  {
   "cell_type": "code",
   "execution_count": 297,
   "metadata": {},
   "outputs": [],
   "source": [
    "# Drop rows where \"Female:Male Ratio\" is NaN\n",
    "df_work.dropna(subset=[\"Female:Male Ratio\"], inplace=True)"
   ]
  },
  {
   "cell_type": "code",
   "execution_count": 298,
   "metadata": {},
   "outputs": [],
   "source": [
    "def parse_female_percentage(ratio):\n",
    "    parts = ratio.split(':')\n",
    "    if len(parts) == 2:\n",
    "        female_part = int(parts[0].strip())\n",
    "        male_part = int(parts[1].strip())\n",
    "        return (female_part / (female_part + male_part)) * 100\n",
    "    else:\n",
    "        return np.nan  "
   ]
  },
  {
   "cell_type": "code",
   "execution_count": 299,
   "metadata": {},
   "outputs": [],
   "source": [
    "# Apply the conversion function\n",
    "df_work['Female Percentage'] = df_work['Female:Male Ratio'].apply(parse_female_percentage)"
   ]
  },
  {
   "cell_type": "code",
   "execution_count": 300,
   "metadata": {},
   "outputs": [
    {
     "name": "stdout",
     "output_type": "stream",
     "text": [
      "0       False\n",
      "1       False\n",
      "2       False\n",
      "3       False\n",
      "4       False\n",
      "        ...  \n",
      "2204     True\n",
      "2205     True\n",
      "2206    False\n",
      "2207    False\n",
      "2208     True\n",
      "Name: Female Percentage, Length: 2128, dtype: bool\n"
     ]
    }
   ],
   "source": [
    "df_filter = df_work['Female Percentage'] > 50\n",
    "print(df_filter)"
   ]
  },
  {
   "cell_type": "code",
   "execution_count": 301,
   "metadata": {},
   "outputs": [],
   "source": [
    "# filter universities\n",
    "df_filter = df_work[df_work['Female Percentage'] > 50]"
   ]
  },
  {
   "cell_type": "code",
   "execution_count": 304,
   "metadata": {},
   "outputs": [
    {
     "name": "stdout",
     "output_type": "stream",
     "text": [
      "                       Name of University Female:Male Ratio\n",
      "7      University of California, Berkeley           52 : 48\n",
      "8                         Yale University           52 : 48\n",
      "13             University of Pennsylvania           53 : 47\n",
      "14               Johns Hopkins University           53 : 47\n",
      "17                  University of Toronto           56 : 44\n",
      "18       National University of Singapore           51 : 49\n",
      "19                     Cornell University           51 : 49\n",
      "20  University of California, Los Angeles           56 : 44\n",
      "21                                    UCL           59 : 41\n",
      "23                    New York University           57 : 43\n"
     ]
    }
   ],
   "source": [
    "top_10_females = df_filter.sort_values(by=\"OverAll Score\", ascending=False)[['Name of University','Female:Male Ratio']].head(10)\n",
    "print(top_10_females)"
   ]
  }
 ],
 "metadata": {
  "kernelspec": {
   "display_name": "Python 3",
   "language": "python",
   "name": "python3"
  },
  "language_info": {
   "codemirror_mode": {
    "name": "ipython",
    "version": 3
   },
   "file_extension": ".py",
   "mimetype": "text/x-python",
   "name": "python",
   "nbconvert_exporter": "python",
   "pygments_lexer": "ipython3",
   "version": "3.12.1"
  }
 },
 "nbformat": 4,
 "nbformat_minor": 2
}
